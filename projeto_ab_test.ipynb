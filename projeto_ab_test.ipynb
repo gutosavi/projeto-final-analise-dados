{
 "cells": [
  {
   "cell_type": "markdown",
   "metadata": {},
   "source": [
    "<div>\n",
    "Olá, Gustavo!\n",
    "\n",
    "Meu nome é Luiz. Fico feliz em revisar seu projeto. Ao longo do texto farei algumas observações sobre melhorias no código e também farei comentários sobre suas percepções sobre o assunto. Estarei aberto a feedbacks e discussões sobre o tema.\n",
    "\n",
    "**Peço que mantenha e não altere os comentários que eu fizer por aqui para que possamos nos localizar posteriormente, ok?**\n",
    "\n",
    "Mais uma coisa, vamos utilizar um código de cores para você entender o meu feedback no seu notebook. Funciona assim:\n",
    "\n",
    "<div class=\"alert alert-block alert-success\">\n",
    "<b> Comentário do revisor: </b> <a class=\"tocSkip\"></a>\n",
    "\n",
    "Sucesso. Tudo foi feito corretamente.\n",
    "</div>\n",
    "\n",
    "<div class=\"alert alert-block alert-warning\">\n",
    "<b>Comentário do revisor: </b> <a class=\"tocSkip\"></a>\n",
    "\n",
    "Alerta não crítico, mas que pode ser corrigido para melhoria geral no seu código/análise.\n",
    "</div>\n",
    "\n",
    "<div class=\"alert alert-block alert-danger\">\n",
    "\n",
    "<b>Comentário do revisor: </b> <a class=\"tocSkip\"></a>\n",
    "    \n",
    "Erro que precisa ser arrumado, caso contrário seu projeto **não** será aceito.\n",
    "</div>\n",
    "\n",
    "Você pode interagir comigo através dessa célula:\n",
    "<div class=\"alert alert-block alert-info\">\n",
    "<b>Resposta do Aluno.</b> <a class=\"tocSkip\"></a>\n",
    "</div>"
   ]
  },
  {
   "cell_type": "markdown",
   "metadata": {},
   "source": [
    "<div class=\"alert alert-block alert-success\">\n",
    "<b> Comentário do revisor: </b> <a class=\"tocSkip\"></a>\n",
    "\n",
    "Obrigado por enviar o seu projeto e pelo esforço de chegar até aqui. O seu projeto possui alguns pontos bem interessantes, dos quais eu destaco:\n",
    "    \n",
    "- Código bem simples e estruturado usando funções\n",
    "- Comentários sucintos e bem objetivos\n",
    "- Conclusões pertinentes em cada análise e etapa de avaliação\n",
    "- Boas habilidades de manipulação de dados\n",
    "    \n",
    "Deixei algumas sugestões em seu projeto, mas não são mandatórias. Você implementou as etapas necessárias para aprovação, mas leve essas sugestões como possíveis melhorias para projetos futuros.\n",
    "    \n",
    "Espero que você tenha uma jornada de muito aprendizado e te de desejo muito sucesso.\n",
    "    \n",
    "    \n",
    "**Até breve!**\n",
    "\n",
    "</div>"
   ]
  },
  {
   "cell_type": "code",
   "execution_count": null,
   "metadata": {},
   "outputs": [],
   "source": [
    "import pandas as pd\n",
    "import numpy as np\n",
    "import matplotlib.pyplot as plt\n",
    "from scipy import stats\n",
    "from statsmodels.stats.proportion import proportions_ztest\n",
    "\n",
    "pd.set_option('display.max_columns', None)\n"
   ]
  },
  {
   "cell_type": "code",
   "execution_count": 3,
   "metadata": {},
   "outputs": [],
   "source": [
    "# Carregamento dos datasets\n",
    "\n",
    "marketing_events = pd.read_csv('/datasets/ab_project_marketing_events_us.csv')\n",
    "new_users = pd.read_csv('/datasets/final_ab_new_users_upd_us.csv')\n",
    "events = pd.read_csv('/datasets/final_ab_events_upd_us.csv')\n",
    "participants = pd.read_csv('/datasets/final_ab_participants_upd_us.csv')\n"
   ]
  },
  {
   "cell_type": "markdown",
   "metadata": {},
   "source": [
    "<div class=\"alert alert-block alert-success\">\n",
    "<b> Comentário do revisor: </b> <a class=\"tocSkip\"></a>\n",
    "    \n",
    "- O conjunto de dados foi carregado corretamente\n",
    "- O import das bibliotecas foi feito de forma correta e em uma célula separada.\n",
    "</div>"
   ]
  },
  {
   "cell_type": "code",
   "execution_count": 4,
   "metadata": {},
   "outputs": [
    {
     "name": "stdout",
     "output_type": "stream",
     "text": [
      "                           name                   regions    start_dt  \\\n",
      "0      Christmas&New Year Promo             EU, N.America  2020-12-25   \n",
      "1  St. Valentine's Day Giveaway  EU, CIS, APAC, N.America  2020-02-14   \n",
      "2        St. Patric's Day Promo             EU, N.America  2020-03-17   \n",
      "3                  Easter Promo  EU, CIS, APAC, N.America  2020-04-12   \n",
      "4             4th of July Promo                 N.America  2020-07-04   \n",
      "\n",
      "    finish_dt  \n",
      "0  2021-01-03  \n",
      "1  2020-02-16  \n",
      "2  2020-03-19  \n",
      "3  2020-04-19  \n",
      "4  2020-07-11  \n",
      "            user_id  first_date     region   device\n",
      "0  D72A72121175D8BE  2020-12-07         EU       PC\n",
      "1  F1C668619DFE6E65  2020-12-07  N.America  Android\n",
      "2  2E1BF1D4C37EA01F  2020-12-07         EU       PC\n",
      "3  50734A22C0C63768  2020-12-07         EU   iPhone\n",
      "4  E1BDDCE0DAFA2679  2020-12-07  N.America   iPhone\n",
      "            user_id             event_dt event_name  details\n",
      "0  E1BDDCE0DAFA2679  2020-12-07 20:22:03   purchase    99.99\n",
      "1  7B6452F081F49504  2020-12-07 09:22:53   purchase     9.99\n",
      "2  9CD9F34546DF254C  2020-12-07 12:59:29   purchase     4.99\n",
      "3  96F27A054B191457  2020-12-07 04:02:40   purchase     4.99\n",
      "4  1FD7660FDF94CA1F  2020-12-07 10:15:09   purchase     4.99\n",
      "            user_id group                  ab_test\n",
      "0  D1ABA3E2887B6A73     A  recommender_system_test\n",
      "1  A7A3664BD6242119     A  recommender_system_test\n",
      "2  DABC14FDDFADD29E     A  recommender_system_test\n",
      "3  04988C5DF189632E     A  recommender_system_test\n",
      "4  4FF2998A348C484F     A  recommender_system_test\n"
     ]
    }
   ],
   "source": [
    "# Visualizando as primeiras linhas dos dados\n",
    "print(marketing_events.head())\n",
    "print(new_users.head())\n",
    "print(events.head())\n",
    "print(participants.head())\n"
   ]
  },
  {
   "cell_type": "code",
   "execution_count": 5,
   "metadata": {},
   "outputs": [],
   "source": [
    "# Convertendo colunas de datas\n",
    "marketing_events['start_dt'] = pd.to_datetime(marketing_events['start_dt'])\n",
    "marketing_events['finish_dt'] = pd.to_datetime(marketing_events['finish_dt'])\n",
    "new_users['first_date'] = pd.to_datetime(new_users['first_date'])\n",
    "events['event_dt'] = pd.to_datetime(events['event_dt'])\n"
   ]
  },
  {
   "cell_type": "code",
   "execution_count": 6,
   "metadata": {},
   "outputs": [
    {
     "name": "stdout",
     "output_type": "stream",
     "text": [
      "Valores ausentes em marketing_events:\n",
      "name         0\n",
      "regions      0\n",
      "start_dt     0\n",
      "finish_dt    0\n",
      "dtype: int64\n",
      "---\n",
      "Valores ausentes em new_users:\n",
      "user_id       0\n",
      "first_date    0\n",
      "region        0\n",
      "device        0\n",
      "dtype: int64\n",
      "---\n",
      "Valores ausentes em events:\n",
      "user_id            0\n",
      "event_dt           0\n",
      "event_name         0\n",
      "details       363447\n",
      "dtype: int64\n",
      "---\n",
      "Valores ausentes em participants:\n",
      "user_id    0\n",
      "group      0\n",
      "ab_test    0\n",
      "dtype: int64\n",
      "---\n",
      "Duplicados em marketing_events: 0\n",
      "Duplicados em new_users: 0\n",
      "Duplicados em events: 0\n",
      "Duplicados em participants: 0\n"
     ]
    }
   ],
   "source": [
    "## Verificação de Valores Ausentes e Duplicados\n",
    "\n",
    "print('Valores ausentes em marketing_events:')\n",
    "print(marketing_events.isnull().sum())\n",
    "print('---')\n",
    "\n",
    "print('Valores ausentes em new_users:')\n",
    "print(new_users.isnull().sum())\n",
    "print('---')\n",
    "\n",
    "print('Valores ausentes em events:')\n",
    "print(events.isnull().sum())\n",
    "print('---')\n",
    "\n",
    "print('Valores ausentes em participants:')\n",
    "print(participants.isnull().sum())\n",
    "print('---')\n",
    "\n",
    "# Verificando duplicados\n",
    "print('Duplicados em marketing_events:', marketing_events.duplicated().sum())\n",
    "print('Duplicados em new_users:', new_users.duplicated().sum())\n",
    "print('Duplicados em events:', events.duplicated().sum())\n",
    "print('Duplicados em participants:', participants.duplicated().sum())\n",
    "\n"
   ]
  },
  {
   "cell_type": "code",
   "execution_count": 7,
   "metadata": {},
   "outputs": [],
   "source": [
    "# Removendo duplicados - para garantir a integridade das análises\n",
    "marketing_events = marketing_events.drop_duplicates()\n",
    "new_users = new_users.drop_duplicates()\n",
    "events = events.drop_duplicates()\n",
    "participants = participants.drop_duplicates()\n"
   ]
  },
  {
   "cell_type": "code",
   "execution_count": 8,
   "metadata": {},
   "outputs": [
    {
     "name": "stdout",
     "output_type": "stream",
     "text": [
      "Período de cadastro dos novos usuários: 2020-12-07 00:00:00 até 2020-12-23 00:00:00\n",
      "Período de eventos: 2020-12-07 00:00:33 até 2020-12-30 23:36:33\n",
      "Participantes por grupo:\n",
      "A    8214\n",
      "B    6311\n",
      "Name: group, dtype: int64\n"
     ]
    }
   ],
   "source": [
    "# Verificação de Períodos e Tamanhos dos Grupos\n",
    "\n",
    "print('Período de cadastro dos novos usuários:', new_users['first_date'].min(), 'até', new_users['first_date'].max())\n",
    "\n",
    "print('Período de eventos:', events['event_dt'].min(), 'até', events['event_dt'].max())\n",
    "\n",
    "print('Participantes por grupo:')\n",
    "print(participants['group'].value_counts())\n"
   ]
  },
  {
   "cell_type": "markdown",
   "metadata": {},
   "source": [
    "<div class=\"alert alert-block alert-success\">\n",
    "<b> Comentário do revisor: </b> <a class=\"tocSkip\"></a>\n",
    "    \n",
    "- O método `head()` foi utilizado para exibir uma amostra inicial dos seus dados\n",
    "- O método `info()` foi utilizado para estudo inicial do conjunto de dados\n",
    "- Todos os conjuntos de dados foram explorados\n",
    "- Os valores duplicados foram estudados\n",
    "- As estatísticas do conjunto de dado foram analisadas\n",
    "\n",
    "</div>"
   ]
  },
  {
   "cell_type": "code",
   "execution_count": 9,
   "metadata": {},
   "outputs": [],
   "source": [
    "# Unindo eventos com participantes\n",
    "events = events.merge(participants, on='user_id', how='inner')\n",
    "\n"
   ]
  },
  {
   "cell_type": "code",
   "execution_count": 10,
   "metadata": {},
   "outputs": [
    {
     "name": "stdout",
     "output_type": "stream",
     "text": [
      "Participantes por grupo:\n",
      "group\n",
      "A    7874\n",
      "B    6205\n",
      "Name: user_id, dtype: int64\n",
      "---\n",
      "Quantidade de usuários em cada etapa:\n",
      "event_name  login  product_cart  product_page  purchase\n",
      "group                                                  \n",
      "A            7873          2483          5208      2682\n",
      "B            6204          2037          3986      2008\n",
      "---\n",
      "Taxas de conversão:\n",
      "event_name     login  product_cart  product_page  purchase\n",
      "group                                                     \n",
      "A           0.999873      0.315342      0.661417  0.340615\n",
      "B           0.999839      0.328284      0.642385  0.323610\n"
     ]
    }
   ],
   "source": [
    "# Análise exploratória: Funil de conversão\n",
    "# Número de participantes por grupo\n",
    "group_sizes = participants.groupby('group')['user_id'].nunique()\n",
    "print('Participantes por grupo:')\n",
    "print(group_sizes)\n",
    "print('---')\n",
    "\n",
    "funnel = events.pivot_table(\n",
    "    index='group',\n",
    "    columns='event_name',\n",
    "    values='user_id',\n",
    "    aggfunc='nunique'\n",
    ")\n",
    "\n",
    "print('Quantidade de usuários em cada etapa:')\n",
    "print(funnel)\n",
    "print('---')\n",
    "\n",
    "conversion_rates = funnel.div(group_sizes, axis=0)\n",
    "print('Taxas de conversão:')\n",
    "print(conversion_rates)\n"
   ]
  },
  {
   "cell_type": "code",
   "execution_count": 11,
   "metadata": {},
   "outputs": [
    {
     "data": {
      "image/png": "[encoded data removed]",
      "text/plain": [
       "<Figure size 640x480 with 1 Axes>"
      ]
     },
     "metadata": {},
     "output_type": "display_data"
    }
   ],
   "source": [
    "# Gráfico de comparação\n",
    "conversion_rates.T.plot(kind='bar')\n",
    "plt.title('Taxa de Conversão por Evento e Grupo')\n",
    "plt.ylabel('Taxa de Conversão (%)')\n",
    "plt.xlabel('Etapas do Funil')\n",
    "plt.xticks(rotation=0)\n",
    "plt.grid()\n",
    "plt.show()\n"
   ]
  },
  {
   "cell_type": "code",
   "execution_count": 12,
   "metadata": {},
   "outputs": [
    {
     "name": "stdout",
     "output_type": "stream",
     "text": [
      "Evento: product_page\n",
      "p-valor: 0.0185\n",
      "---\n",
      "Evento: product_cart\n",
      "p-valor: 0.1025\n",
      "---\n",
      "Evento: purchase\n",
      "p-valor: 0.0336\n",
      "---\n"
     ]
    }
   ],
   "source": [
    "# Teste de hipóteses\n",
    "def test_proportions(success_a, size_a, success_b, size_b):\n",
    "    successes = np.array([success_a, success_b])\n",
    "    samples = np.array([size_a, size_b])\n",
    "    stat, pval = proportions_ztest(successes, samples)\n",
    "    return pval\n",
    "\n",
    "for event in ['product_page', 'product_cart', 'purchase']:\n",
    "    successes_a = funnel.loc['A', event]\n",
    "    successes_b = funnel.loc['B', event]\n",
    "    size_a = group_sizes.loc['A']\n",
    "    size_b = group_sizes.loc['B']\n",
    "    pval = test_proportions(successes_a, size_a, successes_b, size_b)\n",
    "    print(f'Evento: {event}')\n",
    "    print(f'p-valor: {pval:.4f}')\n",
    "    print('---')\n"
   ]
  },
  {
   "cell_type": "code",
   "execution_count": 15,
   "metadata": {},
   "outputs": [
    {
     "name": "stdout",
     "output_type": "stream",
     "text": [
      "            user_id group  event_count\n",
      "0  0002CE61FF2C4011     A           12\n",
      "1  001064FEAAB631A1     B           12\n",
      "2  0010A1C096941592     A           12\n",
      "3  001E72F50D1C48FA     B            6\n",
      "4  002412F1EB3F6E38     A            6\n",
      "          mean  median       std\n",
      "group                           \n",
      "A      7.45555       6  4.475159\n",
      "B      7.11249       6  4.246201\n"
     ]
    },
    {
     "data": {
      "image/png": "[encoded data removed]",
      "text/plain": [
       "<Figure size 640x480 with 1 Axes>"
      ]
     },
     "metadata": {},
     "output_type": "display_data"
    }
   ],
   "source": [
    "# Números de eventos por usuário\n",
    "\n",
    "user_event_counts = events.groupby(['user_id', 'group'])['event_name'].count().reset_index()\n",
    "\n",
    "user_event_counts.rename(columns={'event_name': 'event_count'}, inplace=True)\n",
    "\n",
    "print(user_event_counts.head())\n",
    "\n",
    "\n",
    "# Estatísticas descritivas por grupo\n",
    "event_count_stats = user_event_counts.groupby('group')['event_count'].agg(['mean', 'median', 'std'])\n",
    "print(event_count_stats)\n",
    "\n",
    "\n",
    "import seaborn as sns\n",
    "\n",
    "sns.boxplot(data=user_event_counts, x='group', y='event_count')\n",
    "plt.title('Distribuição do Número de Eventos por Usuário')\n",
    "plt.ylabel('Número de Eventos')\n",
    "plt.xlabel('Grupo')\n",
    "plt.grid()\n",
    "plt.show()\n",
    "\n",
    "\n"
   ]
  },
  {
   "cell_type": "markdown",
   "metadata": {},
   "source": [
    "## Análise Exploratoria: Distribuição do Número de Eventos por Usuário\n",
    "\n",
    "Analisando o número de eventos realizados por usuário em cada grupo.\n",
    "\n",
    "### Resultados:\n",
    "\n",
    "- A média e a mediana do número de eventos por usuário são similares entre os grupos A e B.\n",
    "- Não foram observadas grandes diferenças no nível de atividade dos usuários entre os grupos.\n",
    "\n",
    "### Conclusão:\n",
    "\n",
    "O número de eventos por usuário é distribuído de forma relativamente equilibrada entre as amostras, o que indica que o comportamento de navegação foi comparável. Assim, podemos considerar o teste A/B como equilibrado em relação à atividade dos participantes.\n"
   ]
  },
  {
   "cell_type": "code",
   "execution_count": 16,
   "metadata": {},
   "outputs": [
    {
     "name": "stdout",
     "output_type": "stream",
     "text": [
      "Usuários do grupo A que aparecem nos eventos: 7874\n",
      "Usuários esperados no grupo A: 7874\n",
      "---\n",
      "Usuários do grupo B que aparecem nos eventos: 6205\n",
      "Usuários esperados no grupo B: 6205\n"
     ]
    }
   ],
   "source": [
    "# Verificando presença de usuários de cada grupo nos eventos\n",
    "\n",
    "users_A = participants.query('group == \"A\"')['user_id']\n",
    "users_B = participants.query('group == \"B\"')['user_id']\n",
    "\n",
    "events_A = events.query('group == \"A\"')['user_id'].unique()\n",
    "events_B = events.query('group == \"B\"')['user_id'].unique()\n",
    "\n",
    "print('Usuários do grupo A que aparecem nos eventos:', len(set(events_A)))\n",
    "print('Usuários esperados no grupo A:', users_A.nunique())\n",
    "print('---')\n",
    "\n",
    "print('Usuários do grupo B que aparecem nos eventos:', len(set(events_B)))\n",
    "print('Usuários esperados no grupo B:', users_B.nunique())\n"
   ]
  },
  {
   "cell_type": "markdown",
   "metadata": {},
   "source": [
    "<div class=\"alert alert-block alert-success\">\n",
    "<b> Comentário do revisor: </b> <a class=\"tocSkip\"></a>\n",
    "\n",
    "- Os usuários que estão presentes em ambas as amostras foram analisados\n",
    "- As conclusões foram apresentadas. Aqui é interessante refletir sobre como essa característica impacta no resultado dos testes\n",
    "\n",
    "</div>"
   ]
  },
  {
   "cell_type": "markdown",
   "metadata": {},
   "source": [
    "## Verificação de Presença dos Usuários nas Amostras\n",
    "\n",
    "Compando o número de usuários cadastrados em cada grupo (A e B) com o número de usuários que realmente realizaram eventos no sistema.\n",
    "\n",
    "### Resultados:\n",
    "\n",
    "- Grupo A: 7874 usuários cadastrados e 7874 usuários com eventos registrados.\n",
    "- Grupo B: 6205 usuários cadastrados e 6205 usuários com eventos registrados.\n",
    "\n",
    "### Conclusão:\n",
    "\n",
    "Todos os usuários dos grupos A e B estão presentes nos registros de eventos. Não houve perda de amostra entre o cadastro e a realização de eventos. Portanto, consideramos que as amostras são completas para a análise.\n"
   ]
  },
  {
   "cell_type": "code",
   "execution_count": 18,
   "metadata": {},
   "outputs": [
    {
     "name": "stdout",
     "output_type": "stream",
     "text": [
      "event_date\n",
      "2020-12-07    2777\n",
      "2020-12-08    2904\n",
      "2020-12-09    3079\n",
      "2020-12-10    3164\n",
      "2020-12-11    3145\n",
      "2020-12-12    4040\n",
      "2020-12-13    4478\n",
      "2020-12-14    6138\n",
      "2020-12-15    5649\n",
      "2020-12-16    5470\n",
      "2020-12-17    5663\n",
      "2020-12-18    5803\n",
      "2020-12-19    6170\n",
      "2020-12-20    6676\n",
      "2020-12-21    8511\n",
      "2020-12-22    6858\n",
      "2020-12-23    6108\n",
      "2020-12-24    4732\n",
      "2020-12-26    3366\n",
      "2020-12-27    3087\n",
      "2020-12-28    2719\n",
      "2020-12-29    2281\n",
      "2020-12-30      20\n",
      "dtype: int64\n"
     ]
    },
    {
     "data": {
      "image/png": "[encoded data removed]",
      "text/plain": [
       "<Figure size 640x480 with 1 Axes>"
      ]
     },
     "metadata": {},
     "output_type": "display_data"
    }
   ],
   "source": [
    "# Número de eventos por dia\n",
    "events['event_date'] = events['event_dt'].dt.date\n",
    "\n",
    "events_per_day = events.groupby('event_date').size()\n",
    "\n",
    "print(events_per_day)\n",
    "\n",
    "events_per_day.plot(kind='line', marker='o')\n",
    "plt.title('Número de Eventos por Dia')\n",
    "plt.ylabel('Quantidade de Eventos')\n",
    "plt.xlabel('Data')\n",
    "plt.xticks(rotation=45)\n",
    "plt.grid()\n",
    "plt.show()\n"
   ]
  },
  {
   "cell_type": "markdown",
   "metadata": {},
   "source": [
    "## Análise Exploratória: Distribuição de Eventos por Dia\n",
    "\n",
    "Analisando a distribuição do número de eventos ao longo do período do experimento.\n",
    "\n",
    "### Resultados:\n",
    "\n",
    "- De 07/12/2020 a 21/12/2020, o número de eventos apresentou um crescimento progressivo, indicando aumento na atividade dos usuários.\n",
    "- O pico de eventos ocorreu no dia 21/12/2020, com 8511 eventos registrados.\n",
    "- Após o dia 21/12, houve uma queda gradual no número de eventos, intensificando-se após o Natal (25/12), o que é consistente com a redução esperada da atividade online nesse período de festas.\n",
    "- No dia 30/12/2020, apenas 20 eventos foram registrados, indicando o encerramento da atividade do teste.\n",
    "\n",
    "### Conclusão:\n",
    "\n",
    "A distribuição dos eventos é consistente com o comportamento esperado em um período que inclui datas festivas. Não foram observadas anomalias fora do padrão esperado para o final do ano.\n"
   ]
  },
  {
   "cell_type": "markdown",
   "metadata": {},
   "source": [
    "<div class=\"alert alert-block alert-success\">\n",
    "<b> Comentário do revisor: </b> <a class=\"tocSkip\"></a>\n",
    "\n",
    "    \n",
    "- A distribuição ao longo dos dias foi analisada. Bom trabalho identificando o padrão perto das datas comemorativas de final de ano!\n",
    "</div>"
   ]
  },
  {
   "cell_type": "markdown",
   "metadata": {},
   "source": [
    "## Particularidades dos Dados Observadas Antes do Teste A/B\n",
    "\n",
    "Particularidades nos dados que devem ser consideradas:\n",
    "\n",
    "1. **Sazonalidade**: \n",
    "   - Houve uma queda significativa no número de eventos a partir do dia 22/12/2020, intensificando-se após o Natal.\n",
    "   - Esse comportamento é consistente com o período de festas de fim de ano e pode impactar a taxa de conversão no final do experimento.\n",
    "\n",
    "2. **Parada no recebimento de novos usuários**:\n",
    "   - Conforme especificado, novos usuários pararam de ser cadastrados em 21/12/2020.\n",
    "   - A partir desta data, apenas os usuários já existentes continuaram gerando eventos.\n",
    "\n",
    "3. **Eventos de Marketing**:\n",
    "   - A campanha \"Christmas & New Year Promo\" ocorreu durante o período de análise e pode ter influenciado um aumento na atividade de usuários antes do Natal.\n",
    "\n",
    "4. **Redução drástica no final do teste**:\n",
    "   - No dia 30/12/2020, a atividade foi quase nula (20 eventos).\n",
    "   - Consideramos esse período final como resíduo e ele terá pouca influência na análise principal.\n",
    "\n",
    "### Conclusão:\n",
    "\n",
    "Estas particularidades serão levadas em conta ao interpretar os resultados do teste A/B, principalmente ao avaliar o comportamento do funil de conversão e a comparação entre os grupos.\n"
   ]
  },
  {
   "cell_type": "markdown",
   "metadata": {},
   "source": [
    "## Avaliação dos Resultados do Teste A/B\n",
    "\n",
    "Após a análise dos resultados do teste A/B, chego às seguintes conclusões:\n",
    "\n",
    "- Em `product_page` (visualização de produto), houve diferença estatisticamente significativa (p-valor = 0.0185), porém o grupo controle (A) apresentou uma taxa de conversão superior à do grupo experimental (B).\n",
    "- Em `product_cart` (adicionar ao carrinho), não houve diferença estatisticamente significativa (p-valor = 0.1025).\n",
    "- Em `purchase` (compra), houve diferença estatisticamente significativa (p-valor = 0.0336), novamente com desempenho superior do grupo controle (A).\n",
    "\n",
    "### Considerações:\n",
    "\n",
    "- O objetivo do teste era alcançar pelo menos 10% de aumento nas taxas de conversão para o grupo B em todas as etapas do funil. Este objetivo **não foi atingido**.\n",
    "- Em algumas métricas, o grupo controle (A) teve desempenho melhor que o grupo experimental (B), o que sugere que o novo sistema de recomendação **não trouxe melhoria** no comportamento dos usuários.\n",
    "- As particularidades sazonais (período de Natal e Ano Novo) foram consideradas, mas não alteram a conclusão geral.\n",
    "\n",
    "### Conclusão:\n",
    "\n",
    "O novo sistema de recomendação **não apresentou resultados satisfatórios** no aumento das conversões.  \n",
    "Portanto, **não recomendamos a implementação** do novo sistema com base nos resultados deste teste A/B.\n"
   ]
  },
  {
   "cell_type": "code",
   "execution_count": 19,
   "metadata": {},
   "outputs": [
    {
     "name": "stdout",
     "output_type": "stream",
     "text": [
      "Evento: product_page\n",
      "Taxa Grupo A: 66.1417%\n",
      "Taxa Grupo B: 64.2385%\n",
      "p-valor: 0.0185\n",
      "---\n",
      "Evento: product_cart\n",
      "Taxa Grupo A: 31.5342%\n",
      "Taxa Grupo B: 32.8284%\n",
      "p-valor: 0.1025\n",
      "---\n",
      "Evento: purchase\n",
      "Taxa Grupo A: 34.0615%\n",
      "Taxa Grupo B: 32.3610%\n",
      "p-valor: 0.0336\n",
      "---\n"
     ]
    }
   ],
   "source": [
    "# Z-test\n",
    "from statsmodels.stats.proportion import proportions_ztest\n",
    "\n",
    "def perform_z_test(success_a, size_a, success_b, size_b, event_name):\n",
    "    successes = np.array([success_a, success_b])\n",
    "    samples = np.array([size_a, size_b])\n",
    "    stat, pval = proportions_ztest(successes, samples)\n",
    "    print(f\"Evento: {event_name}\")\n",
    "    print(f\"Taxa Grupo A: {success_a/size_a:.4%}\")\n",
    "    print(f\"Taxa Grupo B: {success_b/size_b:.4%}\")\n",
    "    print(f\"p-valor: {pval:.4f}\")\n",
    "    print('---')\n",
    "    return pval\n",
    "\n",
    "# Usando o funil e os tamanhos de grupo que já temos\n",
    "events_to_test = ['product_page', 'product_cart', 'purchase']\n",
    "\n",
    "for event in events_to_test:\n",
    "    success_a = funnel.loc['A', event]\n",
    "    success_b = funnel.loc['B', event]\n",
    "    size_a = group_sizes.loc['A']\n",
    "    size_b = group_sizes.loc['B']\n",
    "    \n",
    "    perform_z_test(success_a, size_a, success_b, size_b, event)\n"
   ]
  },
  {
   "cell_type": "markdown",
   "metadata": {},
   "source": [
    "<div class=\"alert alert-block alert-warning\">\n",
    "<b> Comentário do revisor: </b> <a class=\"tocSkip\"></a>\n",
    "\n",
    "- Os testes de proporção por evento foram executados corretamente usando `z-test`\n",
    "- O limiar de alpha foi definido\n",
    "- O p-value foi mostrado e o teste conduzido corretamente\n",
    "- Como sugestão, considere definir formalmente as hipóteses nula e alternativa **antes** da execução do teste.\n",
    "</div>"
   ]
  },
  {
   "cell_type": "markdown",
   "metadata": {},
   "source": [
    "## Teste de Hipóteses: Diferença de Conversão entre os Grupos\n",
    "\n",
    "Para avaliar se houve diferença real nas taxas de conversão entre o grupo A (controle) e o grupo B (novo sistema de recomendação), apliquei um z-test para proporções.\n",
    "\n",
    "### Resultado dos testes:\n",
    "\n",
    "| Evento          | Taxa Grupo A | Taxa Grupo B | p-valor |\n",
    "|-----------------|--------------|--------------|---------|\n",
    "| product_page    | 66.14%        | 64.24%        | 0.0185  |\n",
    "| product_cart    | 31.53%        | 32.83%        | 0.1025  |\n",
    "| purchase        | 34.06%        | 32.36%        | 0.0336  |\n",
    "\n",
    "### O que os resultados mostram:\n",
    "\n",
    "- No evento `product_page`, a diferença entre os grupos foi estatisticamente significativa. Porém, quem teve a melhor taxa foi o grupo A (controle), não o grupo B.\n",
    "- Para `product_cart`, a diferença entre os grupos não foi significativa. As taxas ficaram próximas.\n",
    "- Em `purchase`, houve diferença significativa, mas novamente o grupo A apresentou um desempenho melhor.\n",
    "\n",
    "### Conclusão:\n",
    "\n",
    "Apesar de ter havido diferença estatística em duas etapas, o novo sistema de recomendação **não conseguiu melhorar as taxas de conversão**.  \n",
    "Na prática, o grupo controle continuou com resultados iguais ou melhores, então o objetivo do teste não foi alcançado.\n",
    "\n"
   ]
  },
  {
   "cell_type": "markdown",
   "metadata": {},
   "source": [
    "## Conclusões da Análise Exploratória de Dados (AED) e do Teste A/B\n",
    "\n",
    "### Sobre a Análise Exploratória de Dados (AED):\n",
    "\n",
    "Durante a AED, verifiquei que:\n",
    "- Os tipos de dados estavam corretos após as conversões necessárias.\n",
    "- Não havia problemas relevantes de valores ausentes ou duplicados nos datasets.\n",
    "- A distribuição de eventos por dia foi estável até 21/12, com uma queda natural após o Natal, o que já era esperado devido à sazonalidade.\n",
    "- O número de eventos por usuário foi bem distribuído entre os grupos A e B, indicando que o comportamento de navegação foi equilibrado.\n",
    "- Todos os usuários cadastrados nos grupos participaram do experimento realizando eventos.\n",
    "\n",
    "Esses pontos indicam que a base de dados estava em boas condições para seguir com o teste A/B.\n",
    "\n",
    "---\n",
    "\n",
    "### Sobre o resultado do Teste A/B:\n",
    "\n",
    "- A intenção do teste era verificar se o novo sistema de recomendação melhoraria as conversões em pelo menos 10% em cada etapa do funil.\n",
    "- No evento `product_page`, houve diferença estatística, mas o grupo controle (A) teve melhor resultado.\n",
    "- No evento `product_cart`, a diferença entre os grupos não foi significativa.\n",
    "- No evento `purchase`, novamente o grupo controle (A) teve desempenho melhor, com diferença estatística.\n",
    "\n",
    "### Conclusão final:\n",
    "\n",
    "O novo sistema de recomendação **não atingiu o objetivo proposto**.  \n",
    "Em vez de melhorar as conversões, em alguns casos o grupo controle manteve ou superou o desempenho do grupo experimental.  \n",
    "Portanto, com base nos dados analisados, **não recomendo a implementação** do novo sistema de recomendação.\n"
   ]
  },
  {
   "cell_type": "markdown",
   "metadata": {},
   "source": [
    "<div class=\"alert alert-block alert-success\">\n",
    "<b> Comentário do revisor: </b> <a class=\"tocSkip\"></a>\n",
    "\n",
    "- A conclusão final e recomendação foram apresentadas\n",
    "</div>"
   ]
  }
 ],
 "metadata": {
  "ExecuteTimeLog": [
   {
    "duration": 3528,
    "start_time": "2025-04-28T16:59:18.341Z"
   },
   {
    "duration": 703,
    "start_time": "2025-04-28T17:01:02.591Z"
   },
   {
    "duration": 355,
    "start_time": "2025-04-28T17:11:41.262Z"
   },
   {
    "duration": 9,
    "start_time": "2025-04-28T17:12:13.949Z"
   },
   {
    "duration": 86,
    "start_time": "2025-04-28T17:12:27.989Z"
   },
   {
    "duration": 195,
    "start_time": "2025-04-28T17:12:59.787Z"
   },
   {
    "duration": 148,
    "start_time": "2025-04-28T17:13:34.962Z"
   },
   {
    "duration": 8,
    "start_time": "2025-04-28T17:14:09.035Z"
   },
   {
    "duration": 73,
    "start_time": "2025-04-28T17:14:26.163Z"
   },
   {
    "duration": 64,
    "start_time": "2025-04-28T17:15:08.772Z"
   },
   {
    "duration": 128,
    "start_time": "2025-04-28T17:15:24.203Z"
   },
   {
    "duration": 8,
    "start_time": "2025-04-28T17:15:52.742Z"
   },
   {
    "duration": 41,
    "start_time": "2025-04-28T17:18:09.005Z"
   },
   {
    "duration": 47,
    "start_time": "2025-04-28T17:19:00.315Z"
   },
   {
    "duration": 274,
    "start_time": "2025-04-28T17:19:11.322Z"
   },
   {
    "duration": 35,
    "start_time": "2025-04-28T17:21:31.255Z"
   },
   {
    "duration": 27,
    "start_time": "2025-04-28T17:23:37.240Z"
   },
   {
    "duration": 145,
    "start_time": "2025-04-28T17:24:08.415Z"
   },
   {
    "duration": 6,
    "start_time": "2025-04-28T17:35:52.057Z"
   }
  ],
  "kernelspec": {
   "display_name": "Python 3 (ipykernel)",
   "language": "python",
   "name": "python3"
  },
  "language_info": {
   "codemirror_mode": {
    "name": "ipython",
    "version": 3
   },
   "file_extension": ".py",
   "mimetype": "text/x-python",
   "name": "python",
   "nbconvert_exporter": "python",
   "pygments_lexer": "ipython3",
   "version": "3.9.19"
  },
  "toc": {
   "base_numbering": 1,
   "nav_menu": {},
   "number_sections": true,
   "sideBar": true,
   "skip_h1_title": true,
   "title_cell": "Table of Contents",
   "title_sidebar": "Contents",
   "toc_cell": false,
   "toc_position": {},
   "toc_section_display": true,
   "toc_window_display": false
  }
 },
 "nbformat": 4,
 "nbformat_minor": 2
}
