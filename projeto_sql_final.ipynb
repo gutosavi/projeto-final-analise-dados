{
 "cells": [
  {
   "cell_type": "markdown",
   "metadata": {},
   "source": [
    "Olá, Gustavo\n",
    "\n",
    "Meu nome é Ramon. Ao ao longo do texto farei algumas observações sobre melhorias no código. Nas partes em que não houver comentários, está tudo certo, ok? Estarei aberto a feedbacks e discussões sobre o tema.\n",
    "\n",
    "**Peço que mantenha e não altere os comentários que eu fizer por aqui para que possamos nos localizar posteriormente, ok?**\n",
    "\n",
    "Mais uma coisa, vamos utilizar um código de cores para você entender os meus feedbacks no seu notebook. Funciona assim:\n",
    "\n",
    "<div class=\"alert alert-block alert-success\">\n",
    "<b> Comentário do revisor: </b> <a class=\"tocSkip\"></a>\n",
    "\n",
    "Sucesso. Tudo foi feito corretamente.\n",
    "</div>\n",
    "\n",
    "<div class=\"alert alert-block alert-warning\">\n",
    "<b>Comentário do revisor: </b> <a class=\"tocSkip\"></a>\n",
    "\n",
    "Alerta não crítco, mas que pode ser corrigido para melhoria geral no seu código/análise\n",
    "</div>\n",
    "\n",
    "<div class=\"alert alert-block alert-danger\">\n",
    "\n",
    "<b>Comentário do revisor: </b> <a class=\"tocSkip\"></a>\n",
    "    \n",
    "Erro que precisa ser consertado, caso contrário seu projeto **não** será aceito.\n",
    "</div>\n",
    "\n",
    "Você pode me responder usando isso:\n",
    "<div class=\"alert alert-block alert-info\">\n",
    "<b>Resposta do Aluno.</b> <a class=\"tocSkip\"></a>\n",
    "</div>\n",
    "\n",
    "###\n",
    "\n",
    "<div class=\"alert alert-block alert-success\">\n",
    "<b>Comentário Geral do Revisor</b> <a class=\"tocSkip\"></a>\n",
    "\n",
    "Obrigado por enviar seu projeto. \n",
    "    \n",
    "Parabéns, você fez um bom trabalho.\n",
    "    \n",
    "<span class=\"text-danger\">Porém, há espaço para melhorias conforme os itens apontados anteriormente. Destaco os  pontos a seguir: </span>\n",
    " * <span class=\"text-danger\"> Há alguns SQLs que precisam de ajuste. Deixei dicas. </span>\n",
    "\n",
    "\n",
    "Portanto, sugiro que você corrija os pontos indicados.\n",
    "    \n",
    "Se você tiver alguma dúvida sobre de algo que você não tenha entendido, sinta-se à vontade para perguntar ao tutor ou deixar um comentário em **azul** para que, na próxima iteração, eu possa responder.\n",
    "\n",
    "Conte conosco. Lembre-se de que você pode tirar dúvidas com revisores usando os comentários ou buscar ajuda de um tutor.\n",
    "Bom trabalho. \n",
    "\n",
    "\n",
    "</div>\n",
    "\n",
    "\n"
   ]
  },
  {
   "cell_type": "markdown",
   "metadata": {},
   "source": [
    "<div class=\"alert alert-block alert-success\">\n",
    "<b> Comentário final do revisor: </b> <a class=\"tocSkip\"></a>\n",
    "\n",
    "Tudo certo agora. Desejo sucesso na jornada. Parabéns pelo empenho.\n",
    "</div>"
   ]
  },
  {
   "cell_type": "markdown",
   "metadata": {},
   "source": [
    "# Objetivos do Estudo\n",
    "\n",
    "O objetivo deste estudo é analisar o comportamento dos leitores a partir de um banco de dados contendo informações sobre livros, autores, editoras, classificações e resenhas de usuários. A análise é parte do processo de avaliação de mercado para o desenvolvimento de um novo aplicativo voltado a leitores, em resposta ao aumento do consumo de livros durante o período da pandemia.\n",
    "\n",
    "As perguntas-chave do estudo incluem:\n",
    "\n",
    "- Quais editoras e autores têm maior presença no mercado?\n",
    "- Quais livros são mais bem avaliados e quais recebem mais atenção dos leitores?\n",
    "- Como se comportam os leitores mais engajados?\n",
    "- Qual o perfil das obras com maior volume e qualidade de avaliações?\n",
    "\n",
    "Essas análises permitirão compreender melhor as preferências dos leitores e identificar padrões relevantes para apoiar decisões estratégicas no desenvolvimento de um novo produto digital para esse público.\n"
   ]
  },
  {
   "cell_type": "code",
   "execution_count": 2,
   "metadata": {},
   "outputs": [],
   "source": [
    "# Bibliotecas\n",
    "import pandas as pd\n",
    "from sqlalchemy import create_engine\n",
    "\n",
    "db_config = {\n",
    "    'user': 'practicum_student',\n",
    "    'pwd': 'QnmDH8Sc2TQLvy2G3Vvh7',\n",
    "    'host': 'yp-trainers-practicum.cluster-czs0gxyx2d8w.us-east-1.rds.amazonaws.com',\n",
    "    'port': 5432,\n",
    "    'db': 'data-analyst-final-project-db'\n",
    "}\n",
    "\n",
    "connection_string = f\"postgresql://{db_config['user']}:{db_config['pwd']}@{db_config['host']}:{db_config['port']}/{db_config['db']}\"\n",
    "engine = create_engine(connection_string, connect_args={'sslmode': 'require'})\n"
   ]
  },
  {
   "cell_type": "markdown",
   "metadata": {},
   "source": [
    "### Exploração Inicial das Tabelas\n",
    "\n",
    "Antes de iniciar as consultas analíticas, observei as primeiras linhas de cada tabela para entender sua estrutura e confirmar a consistência dos dados disponíveis.\n",
    "\n",
    "As tabelas disponíveis são:\n",
    "\n",
    "- `books`: contém informações sobre livros, incluindo título, número de páginas, data de publicação, autor e editora.\n",
    "- `authors`: contém os nomes dos autores, relacionados via `author_id`.\n",
    "- `publishers`: contém os nomes das editoras, relacionados via `publisher_id`.\n",
    "- `ratings`: traz as avaliações numéricas feitas por usuários sobre os livros.\n",
    "- `reviews`: contém as resenhas textuais feitas por usuários sobre os livros.\n",
    "\n",
    "A visualização inicial ajudou a entender os relacionamentos entre as tabelas e definir a abordagem para as consultas SQL a seguir.\n"
   ]
  },
  {
   "cell_type": "code",
   "execution_count": 3,
   "metadata": {},
   "outputs": [
    {
     "data": {
      "text/html": [
       "<div>\n",
       "<style scoped>\n",
       "    .dataframe tbody tr th:only-of-type {\n",
       "        vertical-align: middle;\n",
       "    }\n",
       "\n",
       "    .dataframe tbody tr th {\n",
       "        vertical-align: top;\n",
       "    }\n",
       "\n",
       "    .dataframe thead th {\n",
       "        text-align: right;\n",
       "    }\n",
       "</style>\n",
       "<table border=\"1\" class=\"dataframe\">\n",
       "  <thead>\n",
       "    <tr style=\"text-align: right;\">\n",
       "      <th></th>\n",
       "      <th>book_id</th>\n",
       "      <th>author_id</th>\n",
       "      <th>title</th>\n",
       "      <th>num_pages</th>\n",
       "      <th>publication_date</th>\n",
       "      <th>publisher_id</th>\n",
       "    </tr>\n",
       "  </thead>\n",
       "  <tbody>\n",
       "    <tr>\n",
       "      <th>0</th>\n",
       "      <td>1</td>\n",
       "      <td>546</td>\n",
       "      <td>'Salem's Lot</td>\n",
       "      <td>594</td>\n",
       "      <td>2005-11-01</td>\n",
       "      <td>93</td>\n",
       "    </tr>\n",
       "    <tr>\n",
       "      <th>1</th>\n",
       "      <td>2</td>\n",
       "      <td>465</td>\n",
       "      <td>1 000 Places to See Before You Die</td>\n",
       "      <td>992</td>\n",
       "      <td>2003-05-22</td>\n",
       "      <td>336</td>\n",
       "    </tr>\n",
       "    <tr>\n",
       "      <th>2</th>\n",
       "      <td>3</td>\n",
       "      <td>407</td>\n",
       "      <td>13 Little Blue Envelopes (Little Blue Envelope...</td>\n",
       "      <td>322</td>\n",
       "      <td>2010-12-21</td>\n",
       "      <td>135</td>\n",
       "    </tr>\n",
       "    <tr>\n",
       "      <th>3</th>\n",
       "      <td>4</td>\n",
       "      <td>82</td>\n",
       "      <td>1491: New Revelations of the Americas Before C...</td>\n",
       "      <td>541</td>\n",
       "      <td>2006-10-10</td>\n",
       "      <td>309</td>\n",
       "    </tr>\n",
       "    <tr>\n",
       "      <th>4</th>\n",
       "      <td>5</td>\n",
       "      <td>125</td>\n",
       "      <td>1776</td>\n",
       "      <td>386</td>\n",
       "      <td>2006-07-04</td>\n",
       "      <td>268</td>\n",
       "    </tr>\n",
       "  </tbody>\n",
       "</table>\n",
       "</div>"
      ],
      "text/plain": [
       "   book_id  author_id                                              title  \\\n",
       "0        1        546                                       'Salem's Lot   \n",
       "1        2        465                 1 000 Places to See Before You Die   \n",
       "2        3        407  13 Little Blue Envelopes (Little Blue Envelope...   \n",
       "3        4         82  1491: New Revelations of the Americas Before C...   \n",
       "4        5        125                                               1776   \n",
       "\n",
       "   num_pages publication_date  publisher_id  \n",
       "0        594       2005-11-01            93  \n",
       "1        992       2003-05-22           336  \n",
       "2        322       2010-12-21           135  \n",
       "3        541       2006-10-10           309  \n",
       "4        386       2006-07-04           268  "
      ]
     },
     "execution_count": 3,
     "metadata": {},
     "output_type": "execute_result"
    }
   ],
   "source": [
    "# livros\n",
    "pd.read_sql('SELECT * FROM books LIMIT 5', con=engine)"
   ]
  },
  {
   "cell_type": "code",
   "execution_count": 4,
   "metadata": {},
   "outputs": [
    {
     "data": {
      "text/html": [
       "<div>\n",
       "<style scoped>\n",
       "    .dataframe tbody tr th:only-of-type {\n",
       "        vertical-align: middle;\n",
       "    }\n",
       "\n",
       "    .dataframe tbody tr th {\n",
       "        vertical-align: top;\n",
       "    }\n",
       "\n",
       "    .dataframe thead th {\n",
       "        text-align: right;\n",
       "    }\n",
       "</style>\n",
       "<table border=\"1\" class=\"dataframe\">\n",
       "  <thead>\n",
       "    <tr style=\"text-align: right;\">\n",
       "      <th></th>\n",
       "      <th>author_id</th>\n",
       "      <th>author</th>\n",
       "    </tr>\n",
       "  </thead>\n",
       "  <tbody>\n",
       "    <tr>\n",
       "      <th>0</th>\n",
       "      <td>1</td>\n",
       "      <td>A.S. Byatt</td>\n",
       "    </tr>\n",
       "    <tr>\n",
       "      <th>1</th>\n",
       "      <td>2</td>\n",
       "      <td>Aesop/Laura Harris/Laura Gibbs</td>\n",
       "    </tr>\n",
       "    <tr>\n",
       "      <th>2</th>\n",
       "      <td>3</td>\n",
       "      <td>Agatha Christie</td>\n",
       "    </tr>\n",
       "    <tr>\n",
       "      <th>3</th>\n",
       "      <td>4</td>\n",
       "      <td>Alan Brennert</td>\n",
       "    </tr>\n",
       "    <tr>\n",
       "      <th>4</th>\n",
       "      <td>5</td>\n",
       "      <td>Alan Moore/David   Lloyd</td>\n",
       "    </tr>\n",
       "  </tbody>\n",
       "</table>\n",
       "</div>"
      ],
      "text/plain": [
       "   author_id                          author\n",
       "0          1                      A.S. Byatt\n",
       "1          2  Aesop/Laura Harris/Laura Gibbs\n",
       "2          3                 Agatha Christie\n",
       "3          4                   Alan Brennert\n",
       "4          5        Alan Moore/David   Lloyd"
      ]
     },
     "execution_count": 4,
     "metadata": {},
     "output_type": "execute_result"
    }
   ],
   "source": [
    "# autores\n",
    "pd.read_sql('SELECT * FROM authors LIMIT 5', con=engine)"
   ]
  },
  {
   "cell_type": "code",
   "execution_count": 5,
   "metadata": {},
   "outputs": [
    {
     "data": {
      "text/html": [
       "<div>\n",
       "<style scoped>\n",
       "    .dataframe tbody tr th:only-of-type {\n",
       "        vertical-align: middle;\n",
       "    }\n",
       "\n",
       "    .dataframe tbody tr th {\n",
       "        vertical-align: top;\n",
       "    }\n",
       "\n",
       "    .dataframe thead th {\n",
       "        text-align: right;\n",
       "    }\n",
       "</style>\n",
       "<table border=\"1\" class=\"dataframe\">\n",
       "  <thead>\n",
       "    <tr style=\"text-align: right;\">\n",
       "      <th></th>\n",
       "      <th>publisher_id</th>\n",
       "      <th>publisher</th>\n",
       "    </tr>\n",
       "  </thead>\n",
       "  <tbody>\n",
       "    <tr>\n",
       "      <th>0</th>\n",
       "      <td>1</td>\n",
       "      <td>Ace</td>\n",
       "    </tr>\n",
       "    <tr>\n",
       "      <th>1</th>\n",
       "      <td>2</td>\n",
       "      <td>Ace Book</td>\n",
       "    </tr>\n",
       "    <tr>\n",
       "      <th>2</th>\n",
       "      <td>3</td>\n",
       "      <td>Ace Books</td>\n",
       "    </tr>\n",
       "    <tr>\n",
       "      <th>3</th>\n",
       "      <td>4</td>\n",
       "      <td>Ace Hardcover</td>\n",
       "    </tr>\n",
       "    <tr>\n",
       "      <th>4</th>\n",
       "      <td>5</td>\n",
       "      <td>Addison Wesley Publishing Company</td>\n",
       "    </tr>\n",
       "  </tbody>\n",
       "</table>\n",
       "</div>"
      ],
      "text/plain": [
       "   publisher_id                          publisher\n",
       "0             1                                Ace\n",
       "1             2                           Ace Book\n",
       "2             3                          Ace Books\n",
       "3             4                      Ace Hardcover\n",
       "4             5  Addison Wesley Publishing Company"
      ]
     },
     "execution_count": 5,
     "metadata": {},
     "output_type": "execute_result"
    }
   ],
   "source": [
    "# editoras\n",
    "pd.read_sql('SELECT * FROM publishers LIMIT 5', con=engine)"
   ]
  },
  {
   "cell_type": "code",
   "execution_count": 6,
   "metadata": {},
   "outputs": [
    {
     "data": {
      "text/html": [
       "<div>\n",
       "<style scoped>\n",
       "    .dataframe tbody tr th:only-of-type {\n",
       "        vertical-align: middle;\n",
       "    }\n",
       "\n",
       "    .dataframe tbody tr th {\n",
       "        vertical-align: top;\n",
       "    }\n",
       "\n",
       "    .dataframe thead th {\n",
       "        text-align: right;\n",
       "    }\n",
       "</style>\n",
       "<table border=\"1\" class=\"dataframe\">\n",
       "  <thead>\n",
       "    <tr style=\"text-align: right;\">\n",
       "      <th></th>\n",
       "      <th>rating_id</th>\n",
       "      <th>book_id</th>\n",
       "      <th>username</th>\n",
       "      <th>rating</th>\n",
       "    </tr>\n",
       "  </thead>\n",
       "  <tbody>\n",
       "    <tr>\n",
       "      <th>0</th>\n",
       "      <td>1</td>\n",
       "      <td>1</td>\n",
       "      <td>ryanfranco</td>\n",
       "      <td>4</td>\n",
       "    </tr>\n",
       "    <tr>\n",
       "      <th>1</th>\n",
       "      <td>2</td>\n",
       "      <td>1</td>\n",
       "      <td>grantpatricia</td>\n",
       "      <td>2</td>\n",
       "    </tr>\n",
       "    <tr>\n",
       "      <th>2</th>\n",
       "      <td>3</td>\n",
       "      <td>1</td>\n",
       "      <td>brandtandrea</td>\n",
       "      <td>5</td>\n",
       "    </tr>\n",
       "    <tr>\n",
       "      <th>3</th>\n",
       "      <td>4</td>\n",
       "      <td>2</td>\n",
       "      <td>lorichen</td>\n",
       "      <td>3</td>\n",
       "    </tr>\n",
       "    <tr>\n",
       "      <th>4</th>\n",
       "      <td>5</td>\n",
       "      <td>2</td>\n",
       "      <td>mariokeller</td>\n",
       "      <td>2</td>\n",
       "    </tr>\n",
       "  </tbody>\n",
       "</table>\n",
       "</div>"
      ],
      "text/plain": [
       "   rating_id  book_id       username  rating\n",
       "0          1        1     ryanfranco       4\n",
       "1          2        1  grantpatricia       2\n",
       "2          3        1   brandtandrea       5\n",
       "3          4        2       lorichen       3\n",
       "4          5        2    mariokeller       2"
      ]
     },
     "execution_count": 6,
     "metadata": {},
     "output_type": "execute_result"
    }
   ],
   "source": [
    "# avaliações numéricas\n",
    "pd.read_sql('SELECT * FROM ratings LIMIT 5', con=engine)"
   ]
  },
  {
   "cell_type": "code",
   "execution_count": 7,
   "metadata": {},
   "outputs": [
    {
     "data": {
      "text/html": [
       "<div>\n",
       "<style scoped>\n",
       "    .dataframe tbody tr th:only-of-type {\n",
       "        vertical-align: middle;\n",
       "    }\n",
       "\n",
       "    .dataframe tbody tr th {\n",
       "        vertical-align: top;\n",
       "    }\n",
       "\n",
       "    .dataframe thead th {\n",
       "        text-align: right;\n",
       "    }\n",
       "</style>\n",
       "<table border=\"1\" class=\"dataframe\">\n",
       "  <thead>\n",
       "    <tr style=\"text-align: right;\">\n",
       "      <th></th>\n",
       "      <th>review_id</th>\n",
       "      <th>book_id</th>\n",
       "      <th>username</th>\n",
       "      <th>text</th>\n",
       "    </tr>\n",
       "  </thead>\n",
       "  <tbody>\n",
       "    <tr>\n",
       "      <th>0</th>\n",
       "      <td>1</td>\n",
       "      <td>1</td>\n",
       "      <td>brandtandrea</td>\n",
       "      <td>Mention society tell send professor analysis. ...</td>\n",
       "    </tr>\n",
       "    <tr>\n",
       "      <th>1</th>\n",
       "      <td>2</td>\n",
       "      <td>1</td>\n",
       "      <td>ryanfranco</td>\n",
       "      <td>Foot glass pretty audience hit themselves. Amo...</td>\n",
       "    </tr>\n",
       "    <tr>\n",
       "      <th>2</th>\n",
       "      <td>3</td>\n",
       "      <td>2</td>\n",
       "      <td>lorichen</td>\n",
       "      <td>Listen treat keep worry. Miss husband tax but ...</td>\n",
       "    </tr>\n",
       "    <tr>\n",
       "      <th>3</th>\n",
       "      <td>4</td>\n",
       "      <td>3</td>\n",
       "      <td>johnsonamanda</td>\n",
       "      <td>Finally month interesting blue could nature cu...</td>\n",
       "    </tr>\n",
       "    <tr>\n",
       "      <th>4</th>\n",
       "      <td>5</td>\n",
       "      <td>3</td>\n",
       "      <td>scotttamara</td>\n",
       "      <td>Nation purpose heavy give wait song will. List...</td>\n",
       "    </tr>\n",
       "  </tbody>\n",
       "</table>\n",
       "</div>"
      ],
      "text/plain": [
       "   review_id  book_id       username  \\\n",
       "0          1        1   brandtandrea   \n",
       "1          2        1     ryanfranco   \n",
       "2          3        2       lorichen   \n",
       "3          4        3  johnsonamanda   \n",
       "4          5        3    scotttamara   \n",
       "\n",
       "                                                text  \n",
       "0  Mention society tell send professor analysis. ...  \n",
       "1  Foot glass pretty audience hit themselves. Amo...  \n",
       "2  Listen treat keep worry. Miss husband tax but ...  \n",
       "3  Finally month interesting blue could nature cu...  \n",
       "4  Nation purpose heavy give wait song will. List...  "
      ]
     },
     "execution_count": 7,
     "metadata": {},
     "output_type": "execute_result"
    }
   ],
   "source": [
    "# resenhas textuais\n",
    "pd.read_sql('SELECT * FROM reviews LIMIT 5', con=engine)"
   ]
  },
  {
   "cell_type": "code",
   "execution_count": 8,
   "metadata": {},
   "outputs": [
    {
     "data": {
      "text/html": [
       "<div>\n",
       "<style scoped>\n",
       "    .dataframe tbody tr th:only-of-type {\n",
       "        vertical-align: middle;\n",
       "    }\n",
       "\n",
       "    .dataframe tbody tr th {\n",
       "        vertical-align: top;\n",
       "    }\n",
       "\n",
       "    .dataframe thead th {\n",
       "        text-align: right;\n",
       "    }\n",
       "</style>\n",
       "<table border=\"1\" class=\"dataframe\">\n",
       "  <thead>\n",
       "    <tr style=\"text-align: right;\">\n",
       "      <th></th>\n",
       "      <th>livros_pos_2000</th>\n",
       "    </tr>\n",
       "  </thead>\n",
       "  <tbody>\n",
       "    <tr>\n",
       "      <th>0</th>\n",
       "      <td>819</td>\n",
       "    </tr>\n",
       "  </tbody>\n",
       "</table>\n",
       "</div>"
      ],
      "text/plain": [
       "   livros_pos_2000\n",
       "0              819"
      ]
     },
     "execution_count": 8,
     "metadata": {},
     "output_type": "execute_result"
    }
   ],
   "source": [
    "# Encontre o número de livros lançados depois de 1 de janeiro de 2000\n",
    "\n",
    "query = '''\n",
    "SELECT COUNT(*) AS livros_pos_2000\n",
    "FROM books\n",
    "WHERE publication_date > '2000-01-01';\n",
    "'''\n",
    "\n",
    "pd.read_sql(query, con=engine)\n",
    "\n"
   ]
  },
  {
   "cell_type": "markdown",
   "metadata": {},
   "source": [
    "### Tarefa 1: Livros lançados após 1º de janeiro de 2000\n",
    "\n",
    "Foi realizada uma consulta para contar quantos livros foram publicados após a data de 01/01/2000.\n",
    "\n",
    "**Resultado:** 819 livros foram lançados após essa data.\n",
    "\n",
    "```sql\n",
    "SELECT COUNT(*) AS livros_pos_2000\n",
    "FROM books\n",
    "WHERE publication_date > '2000-01-01';\n"
   ]
  },
  {
   "cell_type": "code",
   "execution_count": 9,
   "metadata": {},
   "outputs": [
    {
     "data": {
      "text/html": [
       "<div>\n",
       "<style scoped>\n",
       "    .dataframe tbody tr th:only-of-type {\n",
       "        vertical-align: middle;\n",
       "    }\n",
       "\n",
       "    .dataframe tbody tr th {\n",
       "        vertical-align: top;\n",
       "    }\n",
       "\n",
       "    .dataframe thead th {\n",
       "        text-align: right;\n",
       "    }\n",
       "</style>\n",
       "<table border=\"1\" class=\"dataframe\">\n",
       "  <thead>\n",
       "    <tr style=\"text-align: right;\">\n",
       "      <th></th>\n",
       "      <th>title</th>\n",
       "      <th>book_id</th>\n",
       "      <th>total_avaliacoes</th>\n",
       "      <th>media_classificacao</th>\n",
       "    </tr>\n",
       "  </thead>\n",
       "  <tbody>\n",
       "    <tr>\n",
       "      <th>0</th>\n",
       "      <td>Twilight (Twilight  #1)</td>\n",
       "      <td>948</td>\n",
       "      <td>160</td>\n",
       "      <td>3.66</td>\n",
       "    </tr>\n",
       "    <tr>\n",
       "      <th>1</th>\n",
       "      <td>The Hobbit  or There and Back Again</td>\n",
       "      <td>750</td>\n",
       "      <td>88</td>\n",
       "      <td>4.13</td>\n",
       "    </tr>\n",
       "    <tr>\n",
       "      <th>2</th>\n",
       "      <td>The Catcher in the Rye</td>\n",
       "      <td>673</td>\n",
       "      <td>86</td>\n",
       "      <td>3.83</td>\n",
       "    </tr>\n",
       "    <tr>\n",
       "      <th>3</th>\n",
       "      <td>Angels &amp; Demons (Robert Langdon  #1)</td>\n",
       "      <td>75</td>\n",
       "      <td>84</td>\n",
       "      <td>3.68</td>\n",
       "    </tr>\n",
       "    <tr>\n",
       "      <th>4</th>\n",
       "      <td>Harry Potter and the Prisoner of Azkaban (Harr...</td>\n",
       "      <td>302</td>\n",
       "      <td>82</td>\n",
       "      <td>4.41</td>\n",
       "    </tr>\n",
       "    <tr>\n",
       "      <th>5</th>\n",
       "      <td>Harry Potter and the Chamber of Secrets (Harry...</td>\n",
       "      <td>299</td>\n",
       "      <td>80</td>\n",
       "      <td>4.29</td>\n",
       "    </tr>\n",
       "    <tr>\n",
       "      <th>6</th>\n",
       "      <td>Harry Potter and the Order of the Phoenix (Har...</td>\n",
       "      <td>301</td>\n",
       "      <td>75</td>\n",
       "      <td>4.19</td>\n",
       "    </tr>\n",
       "    <tr>\n",
       "      <th>7</th>\n",
       "      <td>Animal Farm</td>\n",
       "      <td>79</td>\n",
       "      <td>74</td>\n",
       "      <td>3.73</td>\n",
       "    </tr>\n",
       "    <tr>\n",
       "      <th>8</th>\n",
       "      <td>The Fellowship of the Ring (The Lord of the Ri...</td>\n",
       "      <td>722</td>\n",
       "      <td>74</td>\n",
       "      <td>4.39</td>\n",
       "    </tr>\n",
       "    <tr>\n",
       "      <th>9</th>\n",
       "      <td>Harry Potter and the Half-Blood Prince (Harry ...</td>\n",
       "      <td>300</td>\n",
       "      <td>73</td>\n",
       "      <td>4.25</td>\n",
       "    </tr>\n",
       "  </tbody>\n",
       "</table>\n",
       "</div>"
      ],
      "text/plain": [
       "                                               title  book_id  \\\n",
       "0                            Twilight (Twilight  #1)      948   \n",
       "1                The Hobbit  or There and Back Again      750   \n",
       "2                             The Catcher in the Rye      673   \n",
       "3               Angels & Demons (Robert Langdon  #1)       75   \n",
       "4  Harry Potter and the Prisoner of Azkaban (Harr...      302   \n",
       "5  Harry Potter and the Chamber of Secrets (Harry...      299   \n",
       "6  Harry Potter and the Order of the Phoenix (Har...      301   \n",
       "7                                        Animal Farm       79   \n",
       "8  The Fellowship of the Ring (The Lord of the Ri...      722   \n",
       "9  Harry Potter and the Half-Blood Prince (Harry ...      300   \n",
       "\n",
       "   total_avaliacoes  media_classificacao  \n",
       "0               160                 3.66  \n",
       "1                88                 4.13  \n",
       "2                86                 3.83  \n",
       "3                84                 3.68  \n",
       "4                82                 4.41  \n",
       "5                80                 4.29  \n",
       "6                75                 4.19  \n",
       "7                74                 3.73  \n",
       "8                74                 4.39  \n",
       "9                73                 4.25  "
      ]
     },
     "execution_count": 9,
     "metadata": {},
     "output_type": "execute_result"
    }
   ],
   "source": [
    "# Encontre o número de avaliações e a classificação média para cada livro\n",
    "\n",
    "query = '''\n",
    "SELECT\n",
    "    b.title,\n",
    "    r.book_id,\n",
    "    COUNT(*) AS total_avaliacoes,\n",
    "    ROUND(AVG(r.rating), 2) AS media_classificacao\n",
    "FROM ratings AS r\n",
    "JOIN books AS b ON r.book_id = b.book_id\n",
    "GROUP BY r.book_id, b.title\n",
    "ORDER BY total_avaliacoes DESC\n",
    "LIMIT 10;\n",
    "'''\n",
    "\n",
    "pd.read_sql(query, con=engine)\n",
    "\n"
   ]
  },
  {
   "cell_type": "markdown",
   "metadata": {},
   "source": [
    "\n",
    "<div class=\"alert alert-block alert-danger\">\n",
    "<b> Comentário do revisor: </b> <a class=\"tocSkip\"></a>\n",
    "\n",
    "Precisa apresnetar o nome. Deixo dica abaixo\n",
    "</div>"
   ]
  },
  {
   "cell_type": "code",
   "execution_count": 1,
   "metadata": {},
   "outputs": [],
   "source": [
    "# query_t2 = \"\"\"SELECT\n",
    "#               books.title,\n",
    "#               subquery.avg_rating,\n",
    "#               subquery.review_count\n",
    "#               FROM\n",
    "#                   (SELECT\n",
    "#                        reviews.book_id as book_id,\n",
    "#                        COUNT (DISTINCT reviews.review_id) AS review_count,\n",
    "#                        AVG (ratings.rating) AS avg_rating\n",
    "#                    FROM\n",
    "#                        reviews\n",
    "#                        INNER JOIN ratings ON ratings.book_id = reviews.book_id\n",
    "#                    GROUP BY\n",
    "#                        reviews.book_id\n",
    "#                    ORDER BY\n",
    "#                        review_count DESC,\n",
    "#                        avg_rating DESC) AS subquery\n",
    "#                    INNER JOIN books ON subquery.book_id = books.book_id\n",
    "#               ORDER BY\n",
    "#                   review_count DESC,\n",
    "#                   avg_rating DESC\n",
    "#               LIMIT 10\"\"\""
   ]
  },
  {
   "cell_type": "markdown",
   "metadata": {},
   "source": [
    "\n",
    "<div class=\"alert alert-block alert-warning\">\n",
    "<b> Comentário do revisor v2: </b> <a class=\"tocSkip\"></a>\n",
    "\n",
    "Vou considerar a resposta, pois de fato você usou o número de avaliações (como notas em vez de reviews). \n",
    "</div>"
   ]
  },
  {
   "cell_type": "markdown",
   "metadata": {},
   "source": [
    "### ### 🔍 Tarefa 2: Número de avaliações e média de classificação por livro\n",
    "\n",
    "Esta consulta identificou os livros mais avaliados da base, agora incluindo os respectivos títulos (`title`) para facilitar a interpretação dos resultados.\n",
    "\n",
    "**Top 10 livros com maior número de avaliações:**\n",
    "\n",
    "| Título | Total de Avaliações | Média de Classificação |\n",
    "|--------|---------------------|-------------------------|\n",
    "| Twilight (Twilight #1) | 160 | 3.66 |\n",
    "| The Hobbit or There and Back Again | 88 | 4.13 |\n",
    "| The Catcher in the Rye | 86 | 3.83 |\n",
    "| Angels & Demons (Robert Langdon #1) | 84 | 3.68 |\n",
    "| Harry Potter and the Prisoner of Azkaban | 82 | 4.41 |\n",
    "| ... | ... | ... |\n",
    "\n",
    "Esses dados ajudam a entender quais títulos atraem maior participação do público e como estão sendo avaliados por leitores em grande volume.\n"
   ]
  },
  {
   "cell_type": "code",
   "execution_count": 7,
   "metadata": {},
   "outputs": [
    {
     "data": {
      "text/html": [
       "<div>\n",
       "<style scoped>\n",
       "    .dataframe tbody tr th:only-of-type {\n",
       "        vertical-align: middle;\n",
       "    }\n",
       "\n",
       "    .dataframe tbody tr th {\n",
       "        vertical-align: top;\n",
       "    }\n",
       "\n",
       "    .dataframe thead th {\n",
       "        text-align: right;\n",
       "    }\n",
       "</style>\n",
       "<table border=\"1\" class=\"dataframe\">\n",
       "  <thead>\n",
       "    <tr style=\"text-align: right;\">\n",
       "      <th></th>\n",
       "      <th>publisher</th>\n",
       "      <th>total_livros</th>\n",
       "    </tr>\n",
       "  </thead>\n",
       "  <tbody>\n",
       "    <tr>\n",
       "      <th>0</th>\n",
       "      <td>Penguin Books</td>\n",
       "      <td>42</td>\n",
       "    </tr>\n",
       "  </tbody>\n",
       "</table>\n",
       "</div>"
      ],
      "text/plain": [
       "       publisher  total_livros\n",
       "0  Penguin Books            42"
      ]
     },
     "execution_count": 7,
     "metadata": {},
     "output_type": "execute_result"
    }
   ],
   "source": [
    "# Identifique a editora que lançou o maior número de livros com mais de 50 páginas\n",
    "\n",
    "query = '''\n",
    "SELECT\n",
    "    p.publisher,\n",
    "    COUNT(b.book_id) AS total_livros\n",
    "FROM books AS b\n",
    "JOIN publishers AS p ON b.publisher_id = p.publisher_id\n",
    "WHERE b.num_pages > 50\n",
    "GROUP BY p.publisher\n",
    "ORDER BY total_livros DESC\n",
    "LIMIT 1;\n",
    "'''\n",
    "\n",
    "pd.read_sql(query, con=engine)\n"
   ]
  },
  {
   "cell_type": "markdown",
   "metadata": {},
   "source": [
    "### Tarefa 3: Editora com mais livros com mais de 50 páginas\n",
    "\n",
    "Para garantir que a análise se concentre em livros substanciais (excluindo brochuras e publicações curtas), filtrei os livros com mais de 50 páginas e agrupei os dados por editora.\n",
    "\n",
    "**Resultado:** A editora com mais livros acima de 50 páginas foi **Penguin Books**, com **42 publicações**.\n",
    "\n",
    "Essa informação pode ser útil para segmentar melhor os dados em análises futuras.\n"
   ]
  },
  {
   "cell_type": "code",
   "execution_count": 8,
   "metadata": {},
   "outputs": [
    {
     "data": {
      "text/html": [
       "<div>\n",
       "<style scoped>\n",
       "    .dataframe tbody tr th:only-of-type {\n",
       "        vertical-align: middle;\n",
       "    }\n",
       "\n",
       "    .dataframe tbody tr th {\n",
       "        vertical-align: top;\n",
       "    }\n",
       "\n",
       "    .dataframe thead th {\n",
       "        text-align: right;\n",
       "    }\n",
       "</style>\n",
       "<table border=\"1\" class=\"dataframe\">\n",
       "  <thead>\n",
       "    <tr style=\"text-align: right;\">\n",
       "      <th></th>\n",
       "      <th>author</th>\n",
       "      <th>media_geral_autor</th>\n",
       "    </tr>\n",
       "  </thead>\n",
       "  <tbody>\n",
       "    <tr>\n",
       "      <th>0</th>\n",
       "      <td>J.K. Rowling/Mary GrandPré</td>\n",
       "      <td>4.28</td>\n",
       "    </tr>\n",
       "  </tbody>\n",
       "</table>\n",
       "</div>"
      ],
      "text/plain": [
       "                       author  media_geral_autor\n",
       "0  J.K. Rowling/Mary GrandPré               4.28"
      ]
     },
     "execution_count": 8,
     "metadata": {},
     "output_type": "execute_result"
    }
   ],
   "source": [
    "# Identifique o autor com a média mais alta de classificação de livros: olhe apenas para livros com pelo menos 50 classificações.\n",
    "\n",
    "query = '''\n",
    "WITH livros_filtrados AS (\n",
    "    SELECT\n",
    "        book_id,\n",
    "        COUNT(*) AS total_ratings,\n",
    "        AVG(rating) AS media_rating\n",
    "    FROM ratings\n",
    "    GROUP BY book_id\n",
    "    HAVING COUNT(*) >= 50\n",
    ")\n",
    "\n",
    "SELECT\n",
    "    a.author,\n",
    "    ROUND(AVG(lf.media_rating), 2) AS media_geral_autor\n",
    "FROM livros_filtrados AS lf\n",
    "JOIN books AS b ON lf.book_id = b.book_id\n",
    "JOIN authors AS a ON b.author_id = a.author_id\n",
    "GROUP BY a.author\n",
    "ORDER BY media_geral_autor DESC\n",
    "LIMIT 1;\n",
    "'''\n",
    "\n",
    "pd.read_sql(query, con=engine)\n"
   ]
  },
  {
   "cell_type": "markdown",
   "metadata": {},
   "source": [
    "### Tarefa 4: Autor com a maior média de classificação (livros com 50+ avaliações)\n",
    "\n",
    "Nesta etapa, o objetivo era identificar o autor cuja média de avaliações de livros fosse a mais alta, considerando apenas livros que receberam **pelo menos 50 classificações** — isso garante maior confiabilidade estatística.\n",
    "\n",
    "**Resultado:**  \n",
    "- Autor: **J.K. Rowling/Mary GrandPré**  \n",
    "- Média geral de classificação: **4.28**\n",
    "\n",
    "Essa métrica ajuda a destacar autores com alto desempenho entre leitores, com base em volume relevante de feedback.\n"
   ]
  },
  {
   "cell_type": "code",
   "execution_count": 10,
   "metadata": {},
   "outputs": [
    {
     "data": {
      "text/html": [
       "<div>\n",
       "<style scoped>\n",
       "    .dataframe tbody tr th:only-of-type {\n",
       "        vertical-align: middle;\n",
       "    }\n",
       "\n",
       "    .dataframe tbody tr th {\n",
       "        vertical-align: top;\n",
       "    }\n",
       "\n",
       "    .dataframe thead th {\n",
       "        text-align: right;\n",
       "    }\n",
       "</style>\n",
       "<table border=\"1\" class=\"dataframe\">\n",
       "  <thead>\n",
       "    <tr style=\"text-align: right;\">\n",
       "      <th></th>\n",
       "      <th>avg_review_cnt</th>\n",
       "    </tr>\n",
       "  </thead>\n",
       "  <tbody>\n",
       "    <tr>\n",
       "      <th>0</th>\n",
       "      <td>24.333333</td>\n",
       "    </tr>\n",
       "  </tbody>\n",
       "</table>\n",
       "</div>"
      ],
      "text/plain": [
       "   avg_review_cnt\n",
       "0       24.333333"
      ]
     },
     "execution_count": 10,
     "metadata": {},
     "output_type": "execute_result"
    }
   ],
   "source": [
    "# Encontre o número médio de avaliações entre usuários que classificaram mais do que 50 livros.\n",
    "\n",
    "query = '''\n",
    "SELECT\n",
    "    AVG(subquery2.review_cnt) AS avg_review_cnt\n",
    "FROM (\n",
    "    SELECT\n",
    "        COUNT(reviews.review_id) AS review_cnt,\n",
    "        subquery1.username\n",
    "    FROM (\n",
    "        SELECT\n",
    "            username,\n",
    "            COUNT(rating_id) AS rating_cnt\n",
    "        FROM ratings\n",
    "        GROUP BY username\n",
    "        HAVING COUNT(rating_id) > 50\n",
    "    ) AS subquery1\n",
    "    INNER JOIN reviews ON reviews.username = subquery1.username\n",
    "    GROUP BY subquery1.username\n",
    ") AS subquery2;\n",
    "'''\n",
    "\n",
    "pd.read_sql(query, con=engine)\n"
   ]
  },
  {
   "cell_type": "markdown",
   "metadata": {},
   "source": [
    "\n",
    "<div class=\"alert alert-block alert-danger\">\n",
    "<b> Comentário do revisor: </b> <a class=\"tocSkip\"></a>\n",
    "\n",
    "Query está incorreta pois precisa usar reviews em vez de ratings. Dica abaixo:\n",
    "</div>"
   ]
  },
  {
   "cell_type": "code",
   "execution_count": 2,
   "metadata": {},
   "outputs": [],
   "source": [
    "# query_t5 = \"\"\"SELECT\n",
    "#                   AVG (subquery2.review_cnt) AS avg_review_cnt\n",
    "#               FROM\n",
    "#                   (SELECT\n",
    "#                       COUNT (reviews.review_id) as review_cnt,\n",
    "#                       subquery1.username\n",
    "#                   FROM\n",
    "#                       (SELECT\n",
    "#                           username,\n",
    "#                           COUNT (rating_id) AS rating_cnt\n",
    "#                       FROM\n",
    "#                           ratings\n",
    "#                       GROUP BY\n",
    "#                           username\n",
    "#                       HAVING\n",
    "#                           COUNT (rating_id) > 50) AS subquery1\n",
    "#                       INNER JOIN reviews ON reviews.username = subquery1.username\n",
    "#                   GROUP BY\n",
    "#                       subquery1.username) AS subquery2\"\"\""
   ]
  },
  {
   "cell_type": "markdown",
   "metadata": {},
   "source": [
    "<div class=\"alert alert-block alert-success\">\n",
    "<b> Comentário do revisor v2: </b> <a class=\"tocSkip\"></a>\n",
    "\n",
    "correto\n",
    "\n",
    "</div>"
   ]
  },
  {
   "cell_type": "markdown",
   "metadata": {},
   "source": [
    "### Tarefa 5: Média de resenhas entre usuários que classificaram mais de 50 livros\n",
    "\n",
    "O objetivo desta tarefa era calcular, entre os usuários que classificaram mais de 50 livros (`ratings`), qual o número médio de resenhas textuais (`reviews`) que eles escreveram.\n",
    "\n",
    "**Resultado:**  \n",
    "Esses usuários escreveram, em média, **24.33 resenhas**.\n",
    "\n",
    "Esse dado mostra que o público mais engajado não apenas avalia muitos livros, como também costuma contribuir com feedbacks mais completos.  \n",
    "Isso pode ser relevante para funcionalidades como sistema de reputação ou curadoria de conteúdo no novo aplicativo.\n",
    "\n"
   ]
  },
  {
   "cell_type": "markdown",
   "metadata": {},
   "source": [
    "### Conclusão do Projeto SQL\n",
    "\n",
    "A análise realizada com SQL permitiu extrair insights relevantes sobre o comportamento dos leitores e a qualidade do acervo, com base em livros, autores, editoras, classificações e resenhas disponíveis na base de dados.\n",
    "\n",
    "Principais descobertas:\n",
    "\n",
    "- O catálogo possui **819 livros lançados após o ano 2000**, indicando boa oferta de publicações contemporâneas.\n",
    "- Os livros mais populares em número de avaliações incluem títulos conhecidos como *Twilight*, *The Hobbit* e obras da saga *Harry Potter*, com destaque tanto em quantidade de avaliações quanto em média de nota.\n",
    "- A editora **Penguin Books** foi a que mais publicou livros com mais de 50 páginas, totalizando **42 títulos** — o que a destaca na categoria de publicações mais substanciais.\n",
    "- O autor **J.K. Rowling/Mary GrandPré** apresentou a melhor média de classificação entre livros com pelo menos 50 avaliações, com nota média de **4.28**.\n",
    "- Entre os leitores mais ativos (aqueles que classificaram mais de 50 livros), a média de **resenhas escritas** foi de **24.33**, revelando um grupo de usuários engajados não só em avaliar, mas também em compartilhar opiniões mais completas.\n",
    "\n",
    "Esses achados ajudam a delinear oportunidades para o desenvolvimento de um aplicativo voltado a leitores, identificando conteúdos e perfis que merecem atenção especial na construção de funcionalidades e estratégias de recomendação.\n",
    "\n"
   ]
  },
  {
   "cell_type": "markdown",
   "metadata": {},
   "source": []
  },
  {
   "cell_type": "code",
   "execution_count": null,
   "metadata": {},
   "outputs": [],
   "source": []
  }
 ],
 "metadata": {
  "ExecuteTimeLog": [
   {
    "duration": 406,
    "start_time": "2025-05-05T16:16:36.630Z"
   },
   {
    "duration": 76,
    "start_time": "2025-05-05T16:16:43.139Z"
   },
   {
    "duration": 5,
    "start_time": "2025-05-05T16:18:36.657Z"
   },
   {
    "duration": 9,
    "start_time": "2025-05-05T16:19:14.298Z"
   },
   {
    "duration": 16,
    "start_time": "2025-05-05T16:20:25.053Z"
   },
   {
    "duration": 11,
    "start_time": "2025-05-05T16:24:00.740Z"
   },
   {
    "duration": 11,
    "start_time": "2025-05-05T16:24:47.234Z"
   },
   {
    "duration": 13,
    "start_time": "2025-05-05T16:25:35.147Z"
   },
   {
    "duration": 17,
    "start_time": "2025-05-05T16:26:49.199Z"
   },
   {
    "duration": 10,
    "start_time": "2025-05-05T16:30:39.357Z"
   },
   {
    "duration": 9,
    "start_time": "2025-05-05T16:30:41.676Z"
   },
   {
    "duration": 11,
    "start_time": "2025-05-05T16:30:43.554Z"
   },
   {
    "duration": 10,
    "start_time": "2025-05-05T16:30:44.844Z"
   },
   {
    "duration": 11,
    "start_time": "2025-05-05T16:30:57.279Z"
   },
   {
    "duration": 4,
    "start_time": "2025-05-05T17:29:18.580Z"
   },
   {
    "duration": 6,
    "start_time": "2025-05-05T17:30:01.176Z"
   },
   {
    "duration": 3,
    "start_time": "2025-05-05T17:57:35.619Z"
   },
   {
    "duration": 2,
    "start_time": "2025-05-05T17:58:35.032Z"
   },
   {
    "duration": 156,
    "start_time": "2025-05-05T21:26:32.842Z"
   },
   {
    "duration": 395,
    "start_time": "2025-05-05T21:26:38.974Z"
   },
   {
    "duration": 52,
    "start_time": "2025-05-05T21:26:41.089Z"
   },
   {
    "duration": 11,
    "start_time": "2025-05-05T21:26:42.006Z"
   },
   {
    "duration": 10,
    "start_time": "2025-05-05T21:26:43.000Z"
   },
   {
    "duration": 11,
    "start_time": "2025-05-05T21:26:43.647Z"
   },
   {
    "duration": 11,
    "start_time": "2025-05-05T21:26:44.378Z"
   },
   {
    "duration": 12,
    "start_time": "2025-05-05T21:26:45.149Z"
   },
   {
    "duration": 18,
    "start_time": "2025-05-05T21:26:47.846Z"
   },
   {
    "duration": 13,
    "start_time": "2025-05-05T21:29:37.500Z"
   }
  ],
  "kernelspec": {
   "display_name": "Python 3 (ipykernel)",
   "language": "python",
   "name": "python3"
  },
  "language_info": {
   "codemirror_mode": {
    "name": "ipython",
    "version": 3
   },
   "file_extension": ".py",
   "mimetype": "text/x-python",
   "name": "python",
   "nbconvert_exporter": "python",
   "pygments_lexer": "ipython3",
   "version": "3.9.19"
  },
  "toc": {
   "base_numbering": 1,
   "nav_menu": {},
   "number_sections": true,
   "sideBar": true,
   "skip_h1_title": true,
   "title_cell": "Table of Contents",
   "title_sidebar": "Contents",
   "toc_cell": false,
   "toc_position": {},
   "toc_section_display": true,
   "toc_window_display": false
  }
 },
 "nbformat": 4,
 "nbformat_minor": 2
}
